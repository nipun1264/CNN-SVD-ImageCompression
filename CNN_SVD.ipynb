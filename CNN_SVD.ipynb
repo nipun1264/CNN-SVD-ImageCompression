{
  "nbformat": 4,
  "nbformat_minor": 0,
  "metadata": {
    "colab": {
      "provenance": [],
      "authorship_tag": "ABX9TyPtp3iygUmcSOPrTwlxO1uh",
      "include_colab_link": true
    },
    "kernelspec": {
      "name": "python3",
      "display_name": "Python 3"
    },
    "language_info": {
      "name": "python"
    },
    "accelerator": "GPU",
    "gpuClass": "standard"
  },
  "cells": [
    {
      "cell_type": "markdown",
      "metadata": {
        "id": "view-in-github",
        "colab_type": "text"
      },
      "source": [
        "<a href=\"https://colab.research.google.com/github/nipun1264/CNN-SVD-ImageCompression/blob/main/CNN_SVD.ipynb\" target=\"_parent\"><img src=\"https://colab.research.google.com/assets/colab-badge.svg\" alt=\"Open In Colab\"/></a>"
      ]
    },
    {
      "cell_type": "code",
      "execution_count": 31,
      "metadata": {
        "id": "yih0jOLx6zH_"
      },
      "outputs": [],
      "source": [
        "import numpy as np\n",
        "import matplotlib.pyplot as plt\n",
        "from keras import Sequential\n",
        "from keras.layers import Dense, Conv2D, MaxPooling2D, UpSampling2D\n",
        "from keras.datasets import mnist\n",
        "from PIL import Image\n",
        "import numpy\n",
        "from PIL import Image\n",
        "from numpy import asarray\n",
        "import cv2\n",
        "import os\n",
        "import random\n",
        "import tensorflow as tf\n",
        "import keras"
      ]
    },
    {
      "cell_type": "code",
      "source": [
        "#(x_train, y_train), (x_test, y_test) = mnist.load_data()\n",
        "(x_train, y_train), (x_test, y_test) =tf.keras.datasets.cifar10.load_data()\n",
        "\n",
        "#x=mnist.load_data()\n",
        "#plt.imshow(x_train[56])\n"
      ],
      "metadata": {
        "id": "9I202b447K-M"
      },
      "execution_count": 32,
      "outputs": []
    },
    {
      "cell_type": "code",
      "source": [
        "# normalize the image data\n",
        "x_train = x_train.astype('float32') / 255\n",
        "x_test = x_test.astype('float32') / 255\n",
        "#plt.imshow(x_train[10])\n",
        "plt.imshow(x_train[10], origin='lower', extent=[-500, 500, -100, 100], aspect=4)\n",
        "plt.show()\n"
      ],
      "metadata": {
        "id": "WaauZUmg7PUD",
        "colab": {
          "base_uri": "https://localhost:8080/",
          "height": 269
        },
        "outputId": "0bf3fe3b-87be-40f5-b7fa-9e8ad75f39bc"
      },
      "execution_count": 33,
      "outputs": [
        {
          "output_type": "display_data",
          "data": {
            "text/plain": [
              "<Figure size 432x288 with 1 Axes>"
            ],
            "image/png": "[encoded data removed]"
          },
          "metadata": {
            "needs_background": "light"
          }
        }
      ]
    },
    {
      "cell_type": "markdown",
      "source": [
        "### **For MNIST data**"
      ],
      "metadata": {
        "id": "LaEDMX2e-zX5"
      }
    },
    {
      "cell_type": "code",
      "source": [
        "# reshape in the input data for the model\n",
        "#x_train = x_train.reshape(len(x_train), 28, 28, 1)\n",
        "#x_test = x_test.reshape(len(x_test), 28, 28, 1)\n",
        "#x_test.shape\n",
        "     "
      ],
      "metadata": {
        "id": "S2jkwXBi7RzG"
      },
      "execution_count": 34,
      "outputs": []
    },
    {
      "cell_type": "code",
      "source": [
        "x_train = x_train.reshape(len(x_train), 32, 32, 3)\n",
        "x_test = x_test.reshape(len(x_test), 32, 32, 3)\n",
        "x_test.shape"
      ],
      "metadata": {
        "colab": {
          "base_uri": "https://localhost:8080/"
        },
        "id": "55APPfps-85F",
        "outputId": "f1e0acec-35af-494a-be81-07207dd2f5a6"
      },
      "execution_count": 35,
      "outputs": [
        {
          "output_type": "execute_result",
          "data": {
            "text/plain": [
              "(10000, 32, 32, 3)"
            ]
          },
          "metadata": {},
          "execution_count": 35
        }
      ]
    },
    {
      "cell_type": "code",
      "source": [
        "# randomly select input image\n",
        "index = 56\n",
        "# plot the image\n",
        "plt.imshow(x_test[index])\n",
        "\n"
      ],
      "metadata": {
        "colab": {
          "base_uri": "https://localhost:8080/",
          "height": 285
        },
        "id": "CVSCIk8F7WCG",
        "outputId": "05fa462e-1622-4635-ef53-e53cd50377fd"
      },
      "execution_count": 36,
      "outputs": [
        {
          "output_type": "execute_result",
          "data": {
            "text/plain": [
              "<matplotlib.image.AxesImage at 0x7fc4c6aedb20>"
            ]
          },
          "metadata": {},
          "execution_count": 36
        },
        {
          "output_type": "display_data",
          "data": {
            "text/plain": [
              "<Figure size 432x288 with 1 Axes>"
            ],
            "image/png": "[encoded data removed]"
          },
          "metadata": {
            "needs_background": "light"
          }
        }
      ]
    },
    {
      "cell_type": "code",
      "source": [
        "model = Sequential([\n",
        "                    # encoder network\n",
        "                    Conv2D(32, 3, activation='relu', padding='same', input_shape=(32, 32, 3)),\n",
        "                    MaxPooling2D(2, padding='same'),\n",
        "                    Conv2D(16, 3, activation='relu', padding='same'),\n",
        "                    MaxPooling2D(2, padding='same'),\n",
        "                    # decoder network\n",
        "                    Conv2D(16, 3, activation='relu', padding='same'),\n",
        "                    UpSampling2D(2),\n",
        "                    Conv2D(32, 3, activation='relu', padding='same'),\n",
        "                    UpSampling2D(2),\n",
        "                    # output layer\n",
        "                    Conv2D(3, 3, activation='sigmoid', padding='same')\n",
        "])\n",
        "\n",
        "model.compile(optimizer='adam', loss='binary_crossentropy')\n",
        "model.summary()"
      ],
      "metadata": {
        "colab": {
          "base_uri": "https://localhost:8080/"
        },
        "id": "mHYN8Xgc7YbM",
        "outputId": "98504238-29dc-4dfb-d065-67fb64c89732"
      },
      "execution_count": 37,
      "outputs": [
        {
          "output_type": "stream",
          "name": "stdout",
          "text": [
            "Model: \"sequential\"\n",
            "_________________________________________________________________\n",
            " Layer (type)                Output Shape              Param #   \n",
            "=================================================================\n",
            " conv2d (Conv2D)             (None, 32, 32, 32)        896       \n",
            "                                                                 \n",
            " max_pooling2d (MaxPooling2D  (None, 16, 16, 32)       0         \n",
            " )                                                               \n",
            "                                                                 \n",
            " conv2d_1 (Conv2D)           (None, 16, 16, 16)        4624      \n",
            "                                                                 \n",
            " max_pooling2d_1 (MaxPooling  (None, 8, 8, 16)         0         \n",
            " 2D)                                                             \n",
            "                                                                 \n",
            " conv2d_2 (Conv2D)           (None, 8, 8, 16)          2320      \n",
            "                                                                 \n",
            " up_sampling2d (UpSampling2D  (None, 16, 16, 16)       0         \n",
            " )                                                               \n",
            "                                                                 \n",
            " conv2d_3 (Conv2D)           (None, 16, 16, 32)        4640      \n",
            "                                                                 \n",
            " up_sampling2d_1 (UpSampling  (None, 32, 32, 32)       0         \n",
            " 2D)                                                             \n",
            "                                                                 \n",
            " conv2d_4 (Conv2D)           (None, 32, 32, 3)         867       \n",
            "                                                                 \n",
            "=================================================================\n",
            "Total params: 13,347\n",
            "Trainable params: 13,347\n",
            "Non-trainable params: 0\n",
            "_________________________________________________________________\n"
          ]
        }
      ]
    },
    {
      "cell_type": "code",
      "source": [
        "# train the model\n",
        "model.fit(x_train, x_train, epochs=20, batch_size=256, validation_data=(x_test, x_test))"
      ],
      "metadata": {
        "colab": {
          "base_uri": "https://localhost:8080/"
        },
        "id": "NJuvn6qJ7bc6",
        "outputId": "9ceace99-fc66-4aca-8920-3ee1db4302c3"
      },
      "execution_count": 38,
      "outputs": [
        {
          "output_type": "stream",
          "name": "stdout",
          "text": [
            "Epoch 1/20\n",
            "196/196 [==============================] - 12s 21ms/step - loss: 0.5950 - val_loss: 0.5750\n",
            "Epoch 2/20\n",
            "196/196 [==============================] - 3s 16ms/step - loss: 0.5707 - val_loss: 0.5687\n",
            "Epoch 3/20\n",
            "196/196 [==============================] - 3s 16ms/step - loss: 0.5667 - val_loss: 0.5663\n",
            "Epoch 4/20\n",
            "196/196 [==============================] - 3s 16ms/step - loss: 0.5648 - val_loss: 0.5648\n",
            "Epoch 5/20\n",
            "196/196 [==============================] - 3s 18ms/step - loss: 0.5636 - val_loss: 0.5639\n",
            "Epoch 6/20\n",
            "196/196 [==============================] - 3s 16ms/step - loss: 0.5628 - val_loss: 0.5634\n",
            "Epoch 7/20\n",
            "196/196 [==============================] - 3s 16ms/step - loss: 0.5621 - val_loss: 0.5628\n",
            "Epoch 8/20\n",
            "196/196 [==============================] - 3s 17ms/step - loss: 0.5616 - val_loss: 0.5624\n",
            "Epoch 9/20\n",
            "196/196 [==============================] - 3s 17ms/step - loss: 0.5611 - val_loss: 0.5621\n",
            "Epoch 10/20\n",
            "196/196 [==============================] - 3s 16ms/step - loss: 0.5607 - val_loss: 0.5613\n",
            "Epoch 11/20\n",
            "196/196 [==============================] - 3s 16ms/step - loss: 0.5604 - val_loss: 0.5609\n",
            "Epoch 12/20\n",
            "196/196 [==============================] - 3s 17ms/step - loss: 0.5601 - val_loss: 0.5614\n",
            "Epoch 13/20\n",
            "196/196 [==============================] - 3s 17ms/step - loss: 0.5599 - val_loss: 0.5605\n",
            "Epoch 14/20\n",
            "196/196 [==============================] - 3s 16ms/step - loss: 0.5596 - val_loss: 0.5602\n",
            "Epoch 15/20\n",
            "196/196 [==============================] - 3s 16ms/step - loss: 0.5595 - val_loss: 0.5601\n",
            "Epoch 16/20\n",
            "196/196 [==============================] - 4s 20ms/step - loss: 0.5593 - val_loss: 0.5600\n",
            "Epoch 17/20\n",
            "196/196 [==============================] - 3s 17ms/step - loss: 0.5591 - val_loss: 0.5600\n",
            "Epoch 18/20\n",
            "196/196 [==============================] - 3s 16ms/step - loss: 0.5590 - val_loss: 0.5597\n",
            "Epoch 19/20\n",
            "196/196 [==============================] - 3s 17ms/step - loss: 0.5588 - val_loss: 0.5594\n",
            "Epoch 20/20\n",
            "196/196 [==============================] - 3s 17ms/step - loss: 0.5587 - val_loss: 0.5596\n"
          ]
        },
        {
          "output_type": "execute_result",
          "data": {
            "text/plain": [
              "<keras.callbacks.History at 0x7fc462408880>"
            ]
          },
          "metadata": {},
          "execution_count": 38
        }
      ]
    },
    {
      "cell_type": "code",
      "source": [
        "# predict the results from model (get compressed images)\n",
        "pred = model.predict(x_test)\n",
        "     "
      ],
      "metadata": {
        "colab": {
          "base_uri": "https://localhost:8080/"
        },
        "id": "2l1LuJad7pRn",
        "outputId": "72798074-4ee0-4acf-b782-2bb5b77732fd"
      },
      "execution_count": null,
      "outputs": [
        {
          "output_type": "stream",
          "name": "stdout",
          "text": [
            "313/313 [==============================] - 1s 3ms/step\n"
          ]
        }
      ]
    },
    {
      "cell_type": "code",
      "source": [
        "# randomly select input image\n",
        "index = 42\n",
        "# plot the image\n",
        "plt.imshow(x_test[index])\n",
        "print(index)"
      ],
      "metadata": {
        "colab": {
          "base_uri": "https://localhost:8080/",
          "height": 284
        },
        "id": "FL1z79Oo74of",
        "outputId": "674ec71a-d8f8-4aad-c549-1659922a8a61"
      },
      "execution_count": null,
      "outputs": [
        {
          "output_type": "stream",
          "name": "stdout",
          "text": [
            "42\n"
          ]
        },
        {
          "output_type": "display_data",
          "data": {
            "text/plain": [
              "<Figure size 432x288 with 1 Axes>"
            ],
            "image/png": "[encoded data removed]"
          },
          "metadata": {
            "needs_background": "light"
          }
        }
      ]
    },
    {
      "cell_type": "code",
      "source": [
        "plt.imshow(pred[index])"
      ],
      "metadata": {
        "colab": {
          "base_uri": "https://localhost:8080/",
          "height": 284
        },
        "id": "qDhKqVIE7_Ag",
        "outputId": "96f4a87f-cc17-4384-d6fa-149a4a2b4ee0"
      },
      "execution_count": null,
      "outputs": [
        {
          "output_type": "execute_result",
          "data": {
            "text/plain": [
              "<matplotlib.image.AxesImage at 0x7f96a46a34f0>"
            ]
          },
          "metadata": {},
          "execution_count": 37
        },
        {
          "output_type": "display_data",
          "data": {
            "text/plain": [
              "<Figure size 432x288 with 1 Axes>"
            ],
            "image/png": "[encoded data removed]"
          },
          "metadata": {
            "needs_background": "light"
          }
        }
      ]
    },
    {
      "cell_type": "markdown",
      "source": [
        " The ORIGINAL image"
      ],
      "metadata": {
        "id": "LD4x2jXM8EdP"
      }
    },
    {
      "cell_type": "code",
      "source": [
        "index = 759\n",
        "# display original image\n",
        "ax = plt.subplot(1, 2, 1)\n",
        "#plt.imshow(x_test[index].reshape(28,28),cmap='gray')\n",
        "plt.imshow(x_test[index])\n",
        "\n"
      ],
      "metadata": {
        "colab": {
          "base_uri": "https://localhost:8080/",
          "height": 220
        },
        "id": "ChKUUE9y8X04",
        "outputId": "0b64e25d-0dab-4bba-c70b-8431c1a90268"
      },
      "execution_count": null,
      "outputs": [
        {
          "output_type": "execute_result",
          "data": {
            "text/plain": [
              "<matplotlib.image.AxesImage at 0x7f96a4640f10>"
            ]
          },
          "metadata": {},
          "execution_count": 39
        },
        {
          "output_type": "display_data",
          "data": {
            "text/plain": [
              "<Figure size 432x288 with 1 Axes>"
            ],
            "image/png": "[encoded data removed]"
          },
          "metadata": {
            "needs_background": "light"
          }
        }
      ]
    },
    {
      "cell_type": "markdown",
      "source": [
        "The COMPRESSED image(After CNN)"
      ],
      "metadata": {
        "id": "55f0odSu8eNX"
      }
    },
    {
      "cell_type": "code",
      "source": [
        "ax = plt.subplot(1, 2, 2)\n",
        "#plt.imshow(pred[index].reshape(28,28),cmap='gray')\n",
        "plt.imshow(pred[index])\n",
        "samplx=pred[index]\n"
      ],
      "metadata": {
        "colab": {
          "base_uri": "https://localhost:8080/",
          "height": 202
        },
        "id": "HQGvUVmt8c5P",
        "outputId": "39a6b504-2808-4bec-91b4-0e2cfcda4ddd"
      },
      "execution_count": null,
      "outputs": [
        {
          "output_type": "display_data",
          "data": {
            "text/plain": [
              "<Figure size 432x288 with 1 Axes>"
            ],
            "image/png": "[encoded data removed]"
          },
          "metadata": {
            "needs_background": "light"
          }
        }
      ]
    },
    {
      "cell_type": "markdown",
      "source": [
        "## SVD Model"
      ],
      "metadata": {
        "id": "VBqYF5JF8r6Q"
      }
    },
    {
      "cell_type": "code",
      "source": [
        "import matplotlib.pyplot as plt\n",
        "import numpy as np\n",
        "\n",
        "mypic=plt.imread(\"1.jpg\")\n",
        "plt.imshow(mypic)\n",
        "\n",
        "mypic_red=mypic[:,:,0]\n",
        "mypic_green=mypic[:,:,1]\n",
        "mypic_blue=mypic[:,:,2]\n",
        "\n",
        "\n",
        "U_red, s_red, V_red=np.linalg.svd(mypic_red)  #here we compute SVD of the matrix of the 1399 X 1920 matrix of red components\n",
        "U_green, s_green, V_green=np.linalg.svd(mypic_green)\n",
        "U_blue, s_blue, V_blue=np.linalg.svd(mypic_blue)\n",
        "\n",
        "\n",
        "def compress(rank):\n",
        "    compress_red=U_red[:, :rank]@ np.diag(s_red[:rank])@V_red[:rank, :] #partial spectral decomposition - take first rank number of singular values/vectors\n",
        "    compress_red=compress_red.astype(int)\n",
        "    \n",
        "    compress_blue=U_blue[:, :rank] @ np.diag(s_blue[:rank])@V_blue[:rank, :]\n",
        "    compress_blue=compress_blue.astype(int)\n",
        "\n",
        "    compress_green=U_green[:, :rank]@ np.diag(s_green[:rank])@V_green[:rank, :]\n",
        "    compress_green=compress_green.astype(int)\n",
        "\n",
        "    compressed_array=np.stack((compress_red,  compress_green, compress_blue), axis=2)\n",
        "    \n",
        "    rows,cols = np.shape(mypic_red)\n",
        "    compression_ratio = 100*rank*(rows + cols+1)/(rows * cols)\n",
        "    print(\"Compression percent\", compression_ratio)\n",
        "    plt.imshow(compressed_array)\n",
        "    \n",
        "\n"
      ],
      "metadata": {
        "id": "HPHQGI6yGOvt"
      },
      "execution_count": null,
      "outputs": []
    },
    {
      "cell_type": "code",
      "source": [
        "compress(20)"
      ],
      "metadata": {
        "id": "2Zi0NFggGVsl"
      },
      "execution_count": null,
      "outputs": []
    },
    {
      "cell_type": "code",
      "source": [
        "compress(70)"
      ],
      "metadata": {
        "id": "PVcL9EwLGfxE"
      },
      "execution_count": null,
      "outputs": []
    },
    {
      "cell_type": "code",
      "source": [
        "compress(150)"
      ],
      "metadata": {
        "id": "XQe9-6u3G5qc"
      },
      "execution_count": null,
      "outputs": []
    },
    {
      "cell_type": "code",
      "source": [
        "compress(300)"
      ],
      "metadata": {
        "id": "13GCXDvMG7is"
      },
      "execution_count": null,
      "outputs": []
    },
    {
      "cell_type": "code",
      "source": [
        "from ipywidgets import interact\n",
        "\n",
        "interact(compress, rank=(1,600))"
      ],
      "metadata": {
        "id": "J7FspETeHDAs"
      },
      "execution_count": null,
      "outputs": []
    },
    {
      "cell_type": "code",
      "source": [],
      "metadata": {
        "id": "RWZK1NT9HM-9"
      },
      "execution_count": null,
      "outputs": []
    },
    {
      "cell_type": "code",
      "source": [],
      "metadata": {
        "id": "0WLV6jvqHV0s"
      },
      "execution_count": null,
      "outputs": []
    },
    {
      "cell_type": "code",
      "source": [],
      "metadata": {
        "id": "Wa3E0_GlI-3c"
      },
      "execution_count": null,
      "outputs": []
    },
    {
      "cell_type": "code",
      "source": [
        "from skimage.metrics import structural_similarity\n",
        "import cv2\n",
        "\n",
        "#Works well with images of different dimensions\n",
        "def orb_sim(img1, img2):\n",
        "  # SIFT is no longer available in cv2 so using ORB\n",
        "  orb = cv2.ORB_create()\n",
        "\n",
        "  # detect keypoints and descriptors\n",
        "  kp_a, desc_a = orb.detectAndCompute(img1, None)\n",
        "  kp_b, desc_b = orb.detectAndCompute(img2, None)\n",
        "\n",
        "  # define the bruteforce matcher object\n",
        "  bf = cv2.BFMatcher(cv2.NORM_HAMMING, crossCheck=True)\n",
        "    \n",
        "  #perform matches. \n",
        "  matches = bf.match(desc_a, desc_b)\n",
        "  #Look for similar regions with distance < 50. Goes from 0 to 100 so pick a number between.\n",
        "  similar_regions = [i for i in matches if i.distance < 50]  \n",
        "  if len(matches) == 0:\n",
        "    return 0\n",
        "  return len(similar_regions) / len(matches)\n",
        "\n",
        "\n",
        "#Needs images to be same dimensions\n",
        "def structural_sim(img1, img2):\n",
        "\n",
        "  sim, diff = structural_similarity(img1, img2, full=True)\n",
        "  return sim\n",
        "\n",
        "img1 = cv2.imread('/content/1.jpg', 0)\n",
        "img3 = cv2.imread('/content/3.jpg', 0)\n",
        "\n",
        "#img1 = cv2.imread('/content/orginal2.png', 0)  # 714 x 901 pixels\n",
        "#img2 = cv2.imread('/content/Compressed2.png', 0)  # 714 x 901 pixels\n",
        "#img3 = cv2.imread('/content/original.png', 0)  # 203 x 256 pixels\n",
        "#img4 = cv2.imread('/content/compressed.png', 0)  # 203 x 256 pixels\n",
        "\n",
        "orb_similarity = orb_sim(img1, img3)  #1.0 means identical. Lower = not similar\n",
        "\n",
        "print(\"Similarity using ORB is: \", orb_similarity)\n",
        "#Resize for SSIM\n",
        "from skimage.transform import resize\n",
        "img5 = resize(img3, (img1.shape[0], img1.shape[1]), anti_aliasing=True, preserve_range=True)\n",
        "\n",
        "ssim = structural_sim(img1, img5) #1.0 means identical. Lower = not similar\n",
        "print(\"Similarity using SSIM is: \", ssim)"
      ],
      "metadata": {
        "id": "V20_2lxo_k_v"
      },
      "execution_count": null,
      "outputs": []
    },
    {
      "cell_type": "code",
      "source": [],
      "metadata": {
        "id": "udoG3ApQMfJk"
      },
      "execution_count": 39,
      "outputs": []
    }
  ]
}